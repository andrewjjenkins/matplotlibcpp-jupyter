{
 "cells": [
  {
   "cell_type": "code",
   "execution_count": 1,
   "id": "b1929bea",
   "metadata": {
    "scrolled": true
   },
   "outputs": [],
   "source": [
    "#pragma cling load(\"python3.9\")\n",
    "#define _USE_MATH_DEFINES\n",
    "#include <cmath>\n",
    "#include <matplotlibcpp.h>\n",
    "#include <vector>\n",
    "\n",
    "namespace plt = matplotlibcpp;"
   ]
  },
  {
   "cell_type": "code",
   "execution_count": 2,
   "id": "51487fa7",
   "metadata": {},
   "outputs": [],
   "source": [
    "int main() {\n",
    "    plt::backend(\"inline\");\n",
    "    std::vector<double> t(1000);\n",
    "    std::vector<double> x(t.size());\n",
    "    \n",
    "    for(size_t i=0; i < t.size(); i++) {\n",
    "        t[i] = i / 100.0;\n",
    "        x[i] = sin(2.0 * M_PI * 1.0 * t[i]);\n",
    "    }\n",
    "    \n",
    "    plt::xkcd();\n",
    "    plt::plot(t,x);\n",
    "    plt::title(\"AN ORDINARY SIN WAVE\");\n",
    "    plt::show();\n",
    "}"
   ]
  },
  {
   "cell_type": "code",
   "execution_count": 3,
   "id": "0b4b72ad",
   "metadata": {},
   "outputs": [
    {
     "data": {
      "text/plain": [
       "0"
      ]
     },
     "execution_count": 3,
     "metadata": {},
     "output_type": "execute_result"
    }
   ],
   "source": [
    "main()"
   ]
  },
  {
   "cell_type": "code",
   "execution_count": null,
   "id": "0b898aa6",
   "metadata": {},
   "outputs": [],
   "source": [
    "plt::detail::s_backend"
   ]
  }
 ],
 "metadata": {
  "kernelspec": {
   "display_name": "C++17 Matplotlib",
   "language": "C++17",
   "name": "matplotlib-cpp"
  },
  "language_info": {
   "codemirror_mode": "text/x-c++src",
   "file_extension": ".cpp",
   "mimetype": "text/x-c++src",
   "name": "c++",
   "version": "17"
  }
 },
 "nbformat": 4,
 "nbformat_minor": 5
}
