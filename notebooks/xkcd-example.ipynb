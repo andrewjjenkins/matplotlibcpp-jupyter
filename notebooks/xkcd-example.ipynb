{
 "cells": [
  {
   "cell_type": "code",
   "execution_count": 1,
   "id": "edbeb969",
   "metadata": {},
   "outputs": [
    {
     "name": "stdout",
     "output_type": "stream",
     "text": [
      "-I/micromamba/envs/clingmpl/include/python3.9 -I/micromamba/envs/clingmpl/include/python3.9\n"
     ]
    }
   ],
   "source": [
    "!python3-config --includes"
   ]
  },
  {
   "cell_type": "code",
   "execution_count": 2,
   "id": "ce9011f7",
   "metadata": {},
   "outputs": [
    {
     "name": "stdout",
     "output_type": "stream",
     "text": [
      " -lcrypt -lpthread -ldl  -lutil -lrt -lm -lm \n"
     ]
    }
   ],
   "source": [
    "!python3-config --libs"
   ]
  },
  {
   "cell_type": "code",
   "execution_count": 7,
   "id": "b1929bea",
   "metadata": {},
   "outputs": [
    {
     "name": "stderr",
     "output_type": "stream",
     "text": [
      "\u001b[1minput_line_14:1:10: \u001b[0m\u001b[0;1;31mfatal error: \u001b[0m\u001b[1m'python3.9' file not found\u001b[0m\n",
      "#include \"python3.9\"\n",
      "\u001b[0;1;32m         ^~~~~~~~~~~\n",
      "\u001b[0m"
     ]
    },
    {
     "ename": "Interpreter Error",
     "evalue": "",
     "output_type": "error",
     "traceback": [
      "Interpreter Error: "
     ]
    }
   ],
   "source": [
    "#pragma cling load(\"python3.9\")\n",
    "#define _USE_MATH_DEFINES\n",
    "#include <cmath>\n",
    "#include <matplotlibcpp.h>"
   ]
  },
  {
   "cell_type": "code",
   "execution_count": 4,
   "id": "a9f1d86a",
   "metadata": {},
   "outputs": [],
   "source": [
    "#include <vector>\n",
    "\n",
    "namespace plt = matplotlibcpp;"
   ]
  },
  {
   "cell_type": "code",
   "execution_count": 5,
   "id": "51487fa7",
   "metadata": {},
   "outputs": [],
   "source": [
    "int main() {\n",
    "    std::vector<double> t(1000);\n",
    "    std::vector<double> x(t.size());\n",
    "    \n",
    "    for(size_t i=0; i < t.size(); i++) {\n",
    "        t[i] = i / 100.0;\n",
    "        x[i] = sin(2.0 * M_PI * 1.0 * t[i]);\n",
    "    }\n",
    "    \n",
    "    plt::xkcd();\n",
    "    plt::plot(t,x);\n",
    "    plt::title(\"AN ORDINARY SIN WAVE\");\n",
    "    plt::save(\"sinwave-ajj.png\");\n",
    "}"
   ]
  },
  {
   "cell_type": "code",
   "execution_count": 6,
   "id": "0b4b72ad",
   "metadata": {},
   "outputs": [
    {
     "name": "stderr",
     "output_type": "stream",
     "text": [
      "IncrementalExecutor::executeFunction: symbol 'PyErr_Format' unresolved while linking [cling interface function]!\n",
      "IncrementalExecutor::executeFunction: symbol 'PySys_SetArgv' unresolved while linking [cling interface function]!\n",
      "IncrementalExecutor::executeFunction: symbol 'Py_Initialize' unresolved while linking [cling interface function]!\n",
      "IncrementalExecutor::executeFunction: symbol 'PyExc_RuntimeError' unresolved while linking [cling interface function]!\n",
      "IncrementalExecutor::executeFunction: symbol 'PyExc_AttributeError' unresolved while linking [cling interface function]!\n",
      "IncrementalExecutor::executeFunction: symbol 'PyImport_ImportModule' unresolved while linking [cling interface function]!\n",
      "IncrementalExecutor::executeFunction: symbol 'PyObject_GetAttrString' unresolved while linking [cling interface function]!\n",
      "IncrementalExecutor::executeFunction: symbol '_Py_Dealloc' unresolved while linking [cling interface function]!\n",
      "IncrementalExecutor::executeFunction: symbol 'PyDict_New' unresolved while linking [cling interface function]!\n",
      "IncrementalExecutor::executeFunction: symbol 'PyLong_FromLong' unresolved while linking [cling interface function]!\n",
      "IncrementalExecutor::executeFunction: symbol 'PyFunction_Type' unresolved while linking [cling interface function]!\n",
      "IncrementalExecutor::executeFunction: symbol 'PyObject_CallMethod' unresolved while linking [cling interface function]!\n",
      "IncrementalExecutor::executeFunction: symbol 'PyErr_SetString' unresolved while linking [cling interface function]!\n",
      "IncrementalExecutor::executeFunction: symbol 'PyCapsule_GetPointer' unresolved while linking [cling interface function]!\n",
      "IncrementalExecutor::executeFunction: symbol 'PyCapsule_Type' unresolved while linking [cling interface function]!\n",
      "IncrementalExecutor::executeFunction: symbol 'PyUnicode_FromString' unresolved while linking [cling interface function]!\n",
      "IncrementalExecutor::executeFunction: symbol 'PyTuple_SetItem' unresolved while linking [cling interface function]!\n",
      "IncrementalExecutor::executeFunction: symbol 'Py_Finalize' unresolved while linking [cling interface function]!\n",
      "IncrementalExecutor::executeFunction: symbol 'PyObject_CallObject' unresolved while linking [cling interface function]!\n",
      "IncrementalExecutor::executeFunction: symbol 'Py_SetProgramName' unresolved while linking [cling interface function]!\n",
      "IncrementalExecutor::executeFunction: symbol 'PyObject_Call' unresolved while linking [cling interface function]!\n",
      "IncrementalExecutor::executeFunction: symbol 'PyExc_ImportError' unresolved while linking [cling interface function]!\n",
      "IncrementalExecutor::executeFunction: symbol 'PyTuple_New' unresolved while linking [cling interface function]!\n",
      "IncrementalExecutor::executeFunction: symbol 'PyErr_Print' unresolved while linking [cling interface function]!\n",
      "IncrementalExecutor::executeFunction: symbol 'PyImport_Import' unresolved while linking [cling interface function]!\n",
      "IncrementalExecutor::executeFunction: symbol 'PyDict_SetItemString' unresolved while linking [cling interface function]!\n"
     ]
    },
    {
     "ename": "Interpreter Error",
     "evalue": "",
     "output_type": "error",
     "traceback": [
      "Interpreter Error: "
     ]
    }
   ],
   "source": [
    "main()"
   ]
  },
  {
   "cell_type": "code",
   "execution_count": null,
   "id": "0b898aa6",
   "metadata": {},
   "outputs": [],
   "source": []
  }
 ],
 "metadata": {
  "kernelspec": {
   "display_name": "C++14 Matplotlib",
   "language": "C++14",
   "name": "matplotlib-cpp"
  },
  "language_info": {
   "codemirror_mode": "text/x-c++src",
   "file_extension": ".cpp",
   "mimetype": "text/x-c++src",
   "name": "c++",
   "version": "14"
  }
 },
 "nbformat": 4,
 "nbformat_minor": 5
}
